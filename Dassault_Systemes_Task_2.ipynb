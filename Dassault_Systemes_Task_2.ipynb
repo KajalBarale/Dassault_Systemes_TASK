{
  "nbformat": 4,
  "nbformat_minor": 0,
  "metadata": {
    "colab": {
      "provenance": []
    },
    "kernelspec": {
      "name": "python3",
      "display_name": "Python 3"
    },
    "language_info": {
      "name": "python"
    }
  },
  "cells": [
    {
      "cell_type": "code",
      "execution_count": 1,
      "metadata": {
        "colab": {
          "base_uri": "https://localhost:8080/"
        },
        "id": "N-SZhZb_oorW",
        "outputId": "faac3aab-9c20-4c22-f915-ecceef082fc3"
      },
      "outputs": [
        {
          "output_type": "stream",
          "name": "stdout",
          "text": [
            "Mounted at /content/drive\n"
          ]
        }
      ],
      "source": [
        "from flask import Flask, render_template, request\n",
        "import pandas as pd\n",
        "import os\n",
        "from google.colab import drive\n",
        "\n",
        "# Mount Google Drive\n",
        "drive.mount('/content/drive')\n",
        "\n",
        "app = Flask(__name__)\n",
        "\n",
        "# Path to the CSV file in Google Drive\n",
        "file_path = '/content/drive/My Drive/Colab Notebooks/healthcare_dataset.csv'\n",
        "\n",
        "# Load healthcare data\n",
        "healthcare_data = pd.read_csv(file_path)\n",
        "\n",
        "\n"
      ]
    },
    {
      "cell_type": "code",
      "source": [
        "@app.route('/home')\n",
        "def home1():\n",
        "    return render_template('index.html')\n",
        "\n"
      ],
      "metadata": {
        "id": "aiMZ1z8qori0"
      },
      "execution_count": 4,
      "outputs": []
    },
    {
      "cell_type": "code",
      "source": [
        "@app.route('/prediction', methods=['POST'])\n",
        "def prediction():\n",
        "    if request.method == 'POST':\n",
        "        # Get user inputs from the form\n",
        "        name = request.form['name']\n",
        "        gender = request.form['gender']\n",
        "        blood_group = request.form['blood_group']\n",
        "\n",
        "        # Determine medical condition based on inputs\n",
        "        filtered_data = healthcare_data[(healthcare_data['Gender'] == gender) & (healthcare_data['Blood Group Type'] == blood_group)]\n",
        "        most_common_condition = filtered_data['Medical Condition'].value_counts().idxmax()\n",
        "\n",
        "        # Store user input in a CSV file\n",
        "        user_data = pd.DataFrame({'Name': [name], 'Gender': [gender], 'Blood Group': [blood_group], 'Medical Condition': [most_common_condition]})\n",
        "        user_data.to_csv('user_data.csv', mode='a', index=False, header=not os.path.exists('user_data.csv'))\n",
        "\n",
        "        return render_template('result.html', name=name, condition=most_common_condition)\n",
        "\n",
        "if __name__ == '__main__':\n",
        "    app.run(debug=False)"
      ],
      "metadata": {
        "id": "wA2S3QSmpbsA"
      },
      "execution_count": null,
      "outputs": []
    }
  ]
}